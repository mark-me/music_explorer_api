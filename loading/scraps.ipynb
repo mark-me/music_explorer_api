{
 "cells": [
  {
   "cell_type": "markdown",
   "metadata": {},
   "source": [
    "# Convert 1-n relationship data frames to JSON"
   ]
  },
  {
   "cell_type": "code",
   "execution_count": 23,
   "metadata": {},
   "outputs": [],
   "source": [
    "import pandas as pd\n",
    "import json"
   ]
  },
  {
   "cell_type": "code",
   "execution_count": 6,
   "metadata": {},
   "outputs": [
    {
     "data": {
      "text/html": [
       "<div>\n",
       "<style scoped>\n",
       "    .dataframe tbody tr th:only-of-type {\n",
       "        vertical-align: middle;\n",
       "    }\n",
       "\n",
       "    .dataframe tbody tr th {\n",
       "        vertical-align: top;\n",
       "    }\n",
       "\n",
       "    .dataframe thead th {\n",
       "        text-align: right;\n",
       "    }\n",
       "</style>\n",
       "<table border=\"1\" class=\"dataframe\">\n",
       "  <thead>\n",
       "    <tr style=\"text-align: right;\">\n",
       "      <th></th>\n",
       "      <th>id</th>\n",
       "      <th>name_customer</th>\n",
       "    </tr>\n",
       "  </thead>\n",
       "  <tbody>\n",
       "    <tr>\n",
       "      <th>0</th>\n",
       "      <td>23432</td>\n",
       "      <td>Customer A</td>\n",
       "    </tr>\n",
       "    <tr>\n",
       "      <th>1</th>\n",
       "      <td>678786</td>\n",
       "      <td>Customer B</td>\n",
       "    </tr>\n",
       "  </tbody>\n",
       "</table>\n",
       "</div>"
      ],
      "text/plain": [
       "       id name_customer\n",
       "0   23432    Customer A\n",
       "1  678786    Customer B"
      ]
     },
     "execution_count": 6,
     "metadata": {},
     "output_type": "execute_result"
    }
   ],
   "source": [
    "df_customer = pd.DataFrame( {\n",
    "    'id':['23432', '678786'],\n",
    "    'name_customer':['Customer A', 'Customer B']\n",
    "})\n",
    "df_customer"
   ]
  },
  {
   "cell_type": "code",
   "execution_count": 8,
   "metadata": {},
   "outputs": [
    {
     "data": {
      "text/html": [
       "<div>\n",
       "<style scoped>\n",
       "    .dataframe tbody tr th:only-of-type {\n",
       "        vertical-align: middle;\n",
       "    }\n",
       "\n",
       "    .dataframe tbody tr th {\n",
       "        vertical-align: top;\n",
       "    }\n",
       "\n",
       "    .dataframe thead th {\n",
       "        text-align: right;\n",
       "    }\n",
       "</style>\n",
       "<table border=\"1\" class=\"dataframe\">\n",
       "  <thead>\n",
       "    <tr style=\"text-align: right;\">\n",
       "      <th></th>\n",
       "      <th>id_customer</th>\n",
       "      <th>id_order</th>\n",
       "      <th>date_order</th>\n",
       "    </tr>\n",
       "  </thead>\n",
       "  <tbody>\n",
       "    <tr>\n",
       "      <th>0</th>\n",
       "      <td>23432</td>\n",
       "      <td>1</td>\n",
       "      <td>2022-11-10</td>\n",
       "    </tr>\n",
       "    <tr>\n",
       "      <th>1</th>\n",
       "      <td>23432</td>\n",
       "      <td>3</td>\n",
       "      <td>2022-11-12</td>\n",
       "    </tr>\n",
       "    <tr>\n",
       "      <th>2</th>\n",
       "      <td>678786</td>\n",
       "      <td>1</td>\n",
       "      <td>2022-11-10</td>\n",
       "    </tr>\n",
       "    <tr>\n",
       "      <th>3</th>\n",
       "      <td>678786</td>\n",
       "      <td>4</td>\n",
       "      <td>2022-11-13</td>\n",
       "    </tr>\n",
       "    <tr>\n",
       "      <th>4</th>\n",
       "      <td>678786</td>\n",
       "      <td>2</td>\n",
       "      <td>2022-11-17</td>\n",
       "    </tr>\n",
       "  </tbody>\n",
       "</table>\n",
       "</div>"
      ],
      "text/plain": [
       "  id_customer id_order  date_order\n",
       "0       23432        1  2022-11-10\n",
       "1       23432        3  2022-11-12\n",
       "2      678786        1  2022-11-10\n",
       "3      678786        4  2022-11-13\n",
       "4      678786        2  2022-11-17"
      ]
     },
     "execution_count": 8,
     "metadata": {},
     "output_type": "execute_result"
    }
   ],
   "source": [
    "df_order = pd.DataFrame({\n",
    "    'id_customer':['23432', '23432', '678786', '678786', '678786'],\n",
    "    'id_order':['1', '3', '1', '4', '2'],\n",
    "    'date_order': ['2022-11-10', '2022-11-12', '2022-11-10', '2022-11-13', '2022-11-17']\n",
    "})\n",
    "df_order"
   ]
  },
  {
   "cell_type": "markdown",
   "metadata": {},
   "source": [
    "Combine two dataframes to recursive dictionaries:"
   ]
  },
  {
   "cell_type": "code",
   "execution_count": 26,
   "metadata": {},
   "outputs": [
    {
     "name": "stdout",
     "output_type": "stream",
     "text": [
      "[{'customer': {'id': '23432', 'name_customer': 'Customer A'}, 'orders': {'id_customer': {0: '23432', 1: '23432'}, 'id_order': {0: '1', 1: '3'}, 'date_order': {0: '2022-11-10', 1: '2022-11-12'}}}, {'customer': {'id': '678786', 'name_customer': 'Customer B'}, 'orders': {'id_customer': {2: '678786', 3: '678786', 4: '678786'}, 'id_order': {2: '1', 3: '4', 4: '2'}, 'date_order': {2: '2022-11-10', 3: '2022-11-13', 4: '2022-11-17'}}}]\n"
     ]
    }
   ],
   "source": [
    "dict_customers = df_customer.to_dict('records')\n",
    "\n",
    "lst_dicts = []\n",
    "for customer in dict_customers:\n",
    "    df_customer_orders = df_order[df_order['id_customer'] == customer['id']]\n",
    "    lst_dicts.append({\n",
    "        'customer': customer,\n",
    "        'orders': df_customer_orders.to_dict()\n",
    "    }) \n",
    "print(lst_dicts)"
   ]
  },
  {
   "cell_type": "markdown",
   "metadata": {},
   "source": [
    "Turn it into JSON:"
   ]
  },
  {
   "cell_type": "code",
   "execution_count": 27,
   "metadata": {},
   "outputs": [
    {
     "name": "stdout",
     "output_type": "stream",
     "text": [
      "[\n",
      "  {\n",
      "    \"customer\": {\n",
      "      \"id\": \"23432\",\n",
      "      \"name_customer\": \"Customer A\"\n",
      "    },\n",
      "    \"orders\": {\n",
      "      \"id_customer\": {\n",
      "        \"0\": \"23432\",\n",
      "        \"1\": \"23432\"\n",
      "      },\n",
      "      \"id_order\": {\n",
      "        \"0\": \"1\",\n",
      "        \"1\": \"3\"\n",
      "      },\n",
      "      \"date_order\": {\n",
      "        \"0\": \"2022-11-10\",\n",
      "        \"1\": \"2022-11-12\"\n",
      "      }\n",
      "    }\n",
      "  },\n",
      "  {\n",
      "    \"customer\": {\n",
      "      \"id\": \"678786\",\n",
      "      \"name_customer\": \"Customer B\"\n",
      "    },\n",
      "    \"orders\": {\n",
      "      \"id_customer\": {\n",
      "        \"2\": \"678786\",\n",
      "        \"3\": \"678786\",\n",
      "        \"4\": \"678786\"\n",
      "      },\n",
      "      \"id_order\": {\n",
      "        \"2\": \"1\",\n",
      "        \"3\": \"4\",\n",
      "        \"4\": \"2\"\n",
      "      },\n",
      "      \"date_order\": {\n",
      "        \"2\": \"2022-11-10\",\n",
      "        \"3\": \"2022-11-13\",\n",
      "        \"4\": \"2022-11-17\"\n",
      "      }\n",
      "    }\n",
      "  }\n",
      "]\n"
     ]
    }
   ],
   "source": [
    "json_all = json.dumps(lst_dicts, indent=2)\n",
    "print(json_all)"
   ]
  }
 ],
 "metadata": {
  "kernelspec": {
   "display_name": "Python 3.8.8 ('env': venv)",
   "language": "python",
   "name": "python3"
  },
  "language_info": {
   "codemirror_mode": {
    "name": "ipython",
    "version": 3
   },
   "file_extension": ".py",
   "mimetype": "text/x-python",
   "name": "python",
   "nbconvert_exporter": "python",
   "pygments_lexer": "ipython3",
   "version": "3.8.8"
  },
  "orig_nbformat": 4,
  "vscode": {
   "interpreter": {
    "hash": "4cd7d52072aedbe07b588a1708d3118710203b2bcce2ac7b194c29165aca54ba"
   }
  }
 },
 "nbformat": 4,
 "nbformat_minor": 2
}
